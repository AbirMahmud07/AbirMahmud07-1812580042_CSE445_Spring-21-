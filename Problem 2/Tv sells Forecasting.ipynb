{
 "cells": [
  {
   "cell_type": "code",
   "execution_count": 56,
   "metadata": {},
   "outputs": [],
   "source": [
    "import numpy as np\n",
    "import pandas as pd\n",
    "import matplotlib.pyplot as plt\n",
    "import seaborn as sns\n",
    "%matplotlib inline\n"
   ]
  },
  {
   "cell_type": "code",
   "execution_count": 57,
   "metadata": {},
   "outputs": [],
   "source": [
    "# import data set\n",
    "path = r\"C:\\Users\\TOSHIBA\\Desktop\\Date and model wise sale.csv\"\n",
    "df = pd.read_csv(path)\n"
   ]
  },
  {
   "cell_type": "code",
   "execution_count": 58,
   "metadata": {},
   "outputs": [
    {
     "data": {
      "text/plain": [
       "<bound method NDFrame.head of             Date Model  Count\n",
       "0      31-Aug-16   M45      5\n",
       "1      31-Aug-16  M121      3\n",
       "2      31-Aug-16  M122      4\n",
       "3      31-Aug-16   M91     10\n",
       "4      31-Aug-16   M66     57\n",
       "...          ...   ...    ...\n",
       "46111  01-Jan-14   M74      1\n",
       "46112  01-Jan-14   M59      1\n",
       "46113  01-Jan-14   M60      5\n",
       "46114  01-Jan-14   M54      1\n",
       "46115  01-Jan-14   M58      1\n",
       "\n",
       "[46116 rows x 3 columns]>"
      ]
     },
     "execution_count": 58,
     "metadata": {},
     "output_type": "execute_result"
    }
   ],
   "source": [
    "# Show data\n",
    "df.head"
   ]
  },
  {
   "cell_type": "code",
   "execution_count": 59,
   "metadata": {},
   "outputs": [
    {
     "data": {
      "text/html": [
       "<div>\n",
       "<style scoped>\n",
       "    .dataframe tbody tr th:only-of-type {\n",
       "        vertical-align: middle;\n",
       "    }\n",
       "\n",
       "    .dataframe tbody tr th {\n",
       "        vertical-align: top;\n",
       "    }\n",
       "\n",
       "    .dataframe thead th {\n",
       "        text-align: right;\n",
       "    }\n",
       "</style>\n",
       "<table border=\"1\" class=\"dataframe\">\n",
       "  <thead>\n",
       "    <tr style=\"text-align: right;\">\n",
       "      <th></th>\n",
       "      <th>Date</th>\n",
       "      <th>Model</th>\n",
       "      <th>Count</th>\n",
       "    </tr>\n",
       "  </thead>\n",
       "  <tbody>\n",
       "    <tr>\n",
       "      <th>46111</th>\n",
       "      <td>01-Jan-14</td>\n",
       "      <td>M74</td>\n",
       "      <td>1</td>\n",
       "    </tr>\n",
       "    <tr>\n",
       "      <th>46112</th>\n",
       "      <td>01-Jan-14</td>\n",
       "      <td>M59</td>\n",
       "      <td>1</td>\n",
       "    </tr>\n",
       "    <tr>\n",
       "      <th>46113</th>\n",
       "      <td>01-Jan-14</td>\n",
       "      <td>M60</td>\n",
       "      <td>5</td>\n",
       "    </tr>\n",
       "    <tr>\n",
       "      <th>46114</th>\n",
       "      <td>01-Jan-14</td>\n",
       "      <td>M54</td>\n",
       "      <td>1</td>\n",
       "    </tr>\n",
       "    <tr>\n",
       "      <th>46115</th>\n",
       "      <td>01-Jan-14</td>\n",
       "      <td>M58</td>\n",
       "      <td>1</td>\n",
       "    </tr>\n",
       "  </tbody>\n",
       "</table>\n",
       "</div>"
      ],
      "text/plain": [
       "            Date Model  Count\n",
       "46111  01-Jan-14   M74      1\n",
       "46112  01-Jan-14   M59      1\n",
       "46113  01-Jan-14   M60      5\n",
       "46114  01-Jan-14   M54      1\n",
       "46115  01-Jan-14   M58      1"
      ]
     },
     "execution_count": 59,
     "metadata": {},
     "output_type": "execute_result"
    }
   ],
   "source": [
    "df.tail()"
   ]
  },
  {
   "cell_type": "code",
   "execution_count": 60,
   "metadata": {},
   "outputs": [
    {
     "data": {
      "text/html": [
       "<div>\n",
       "<style scoped>\n",
       "    .dataframe tbody tr th:only-of-type {\n",
       "        vertical-align: middle;\n",
       "    }\n",
       "\n",
       "    .dataframe tbody tr th {\n",
       "        vertical-align: top;\n",
       "    }\n",
       "\n",
       "    .dataframe thead th {\n",
       "        text-align: right;\n",
       "    }\n",
       "</style>\n",
       "<table border=\"1\" class=\"dataframe\">\n",
       "  <thead>\n",
       "    <tr style=\"text-align: right;\">\n",
       "      <th></th>\n",
       "      <th>Count</th>\n",
       "    </tr>\n",
       "  </thead>\n",
       "  <tbody>\n",
       "    <tr>\n",
       "      <th>count</th>\n",
       "      <td>46116.000000</td>\n",
       "    </tr>\n",
       "    <tr>\n",
       "      <th>mean</th>\n",
       "      <td>96.690108</td>\n",
       "    </tr>\n",
       "    <tr>\n",
       "      <th>std</th>\n",
       "      <td>315.065946</td>\n",
       "    </tr>\n",
       "    <tr>\n",
       "      <th>min</th>\n",
       "      <td>1.000000</td>\n",
       "    </tr>\n",
       "    <tr>\n",
       "      <th>25%</th>\n",
       "      <td>3.000000</td>\n",
       "    </tr>\n",
       "    <tr>\n",
       "      <th>50%</th>\n",
       "      <td>14.000000</td>\n",
       "    </tr>\n",
       "    <tr>\n",
       "      <th>75%</th>\n",
       "      <td>67.000000</td>\n",
       "    </tr>\n",
       "    <tr>\n",
       "      <th>max</th>\n",
       "      <td>6678.000000</td>\n",
       "    </tr>\n",
       "  </tbody>\n",
       "</table>\n",
       "</div>"
      ],
      "text/plain": [
       "              Count\n",
       "count  46116.000000\n",
       "mean      96.690108\n",
       "std      315.065946\n",
       "min        1.000000\n",
       "25%        3.000000\n",
       "50%       14.000000\n",
       "75%       67.000000\n",
       "max     6678.000000"
      ]
     },
     "execution_count": 60,
     "metadata": {},
     "output_type": "execute_result"
    }
   ],
   "source": [
    "df.describe()"
   ]
  },
  {
   "cell_type": "code",
   "execution_count": 61,
   "metadata": {},
   "outputs": [
    {
     "data": {
      "text/plain": [
       "(46116, 3)"
      ]
     },
     "execution_count": 61,
     "metadata": {},
     "output_type": "execute_result"
    }
   ],
   "source": [
    "df.shape"
   ]
  },
  {
   "cell_type": "code",
   "execution_count": 62,
   "metadata": {},
   "outputs": [
    {
     "data": {
      "text/plain": [
       "Index(['Date', 'Model', 'Count'], dtype='object')"
      ]
     },
     "execution_count": 62,
     "metadata": {},
     "output_type": "execute_result"
    }
   ],
   "source": [
    "df.columns"
   ]
  },
  {
   "cell_type": "code",
   "execution_count": 63,
   "metadata": {},
   "outputs": [
    {
     "data": {
      "text/plain": [
       "Date      971\n",
       "Model     124\n",
       "Count    1191\n",
       "dtype: int64"
      ]
     },
     "execution_count": 63,
     "metadata": {},
     "output_type": "execute_result"
    }
   ],
   "source": [
    "#Check unique value of the data set\n",
    "df.nunique()"
   ]
  },
  {
   "cell_type": "code",
   "execution_count": 64,
   "metadata": {},
   "outputs": [
    {
     "data": {
      "text/plain": [
       "array(['M45', 'M121', 'M122', 'M91', 'M66', 'M100', 'M5', 'M14', 'M62',\n",
       "       'M15', 'M61', 'M82', 'M108', 'M55', 'M43', 'M31', 'M90', 'M96',\n",
       "       'M69', 'M76', 'M56', 'M92', 'M72', 'M94', 'M8', 'M97', 'M71',\n",
       "       'M57', 'M107', 'M99', 'M18', 'M30', 'M36', 'M86', 'M13', 'M73',\n",
       "       'M81', 'M41', 'M79', 'M70', 'M110', 'M95', 'M51', 'M117', 'M22',\n",
       "       'M10', 'M65', 'M115', 'M75', 'M124', 'M2', 'M42', 'M112', 'M27',\n",
       "       'M53', 'M60', 'M120', 'M23', 'M4', 'M39', 'M48', 'M32', 'M87',\n",
       "       'M6', 'M64', 'M68', 'M17', 'M7', 'M24', 'M44', 'M16', 'M77', 'M78',\n",
       "       'M28', 'M12', 'M1', 'M84', 'M11', 'M25', 'M20', 'M105', 'M88',\n",
       "       'M109', 'M21', 'M19', 'M40', 'M9', 'M116', 'M50', 'M67', 'M93',\n",
       "       'M89', 'M63', 'M123', 'M119', 'M49', 'M52', 'M102', 'M85', 'M126',\n",
       "       'M59', 'M38', 'M103', 'M74', 'M98', 'M37', 'M113', 'M125', 'M104',\n",
       "       'M26', 'M35', 'M80', 'M127', 'M111', 'M118', 'M101', 'M58', 'M47',\n",
       "       'M114', 'M54', 'M29', 'M34', 'M33', 'M106'], dtype=object)"
      ]
     },
     "execution_count": 64,
     "metadata": {},
     "output_type": "execute_result"
    }
   ],
   "source": [
    "df['Model'].unique()"
   ]
  },
  {
   "cell_type": "code",
   "execution_count": 65,
   "metadata": {},
   "outputs": [
    {
     "data": {
      "text/plain": [
       "array([  5,   3,   4, ..., 436, 407, 428], dtype=int64)"
      ]
     },
     "execution_count": 65,
     "metadata": {},
     "output_type": "execute_result"
    }
   ],
   "source": [
    "df['Count'].unique()"
   ]
  },
  {
   "cell_type": "code",
   "execution_count": 66,
   "metadata": {},
   "outputs": [
    {
     "data": {
      "text/plain": [
       "array(['31-Aug-16', '30-Aug-16', '29-Aug-16', '28-Aug-16', '27-Aug-16',\n",
       "       '26-Aug-16', '25-Aug-16', '24-Aug-16', '23-Aug-16', '22-Aug-16',\n",
       "       '21-Aug-16', '20-Aug-16', '19-Aug-16', '18-Aug-16', '17-Aug-16',\n",
       "       '16-Aug-16', '15-Aug-16', '14-Aug-16', '13-Aug-16', '12-Aug-16',\n",
       "       '11-Aug-16', '10-Aug-16', '09-Aug-16', '08-Aug-16', '07-Aug-16',\n",
       "       '06-Aug-16', '05-Aug-16', '04-Aug-16', '03-Aug-16', '02-Aug-16',\n",
       "       '01-Aug-16', '31-Jul-16', '30-Jul-16', '29-Jul-16', '28-Jul-16',\n",
       "       '27-Jul-16', '26-Jul-16', '25-Jul-16', '24-Jul-16', '23-Jul-16',\n",
       "       '22-Jul-16', '21-Jul-16', '20-Jul-16', '19-Jul-16', '18-Jul-16',\n",
       "       '17-Jul-16', '16-Jul-16', '15-Jul-16', '14-Jul-16', '13-Jul-16',\n",
       "       '12-Jul-16', '11-Jul-16', '10-Jul-16', '09-Jul-16', '08-Jul-16',\n",
       "       '07-Jul-16', '06-Jul-16', '05-Jul-16', '04-Jul-16', '03-Jul-16',\n",
       "       '02-Jul-16', '01-Jul-16', '30-Jun-16', '29-Jun-16', '28-Jun-16',\n",
       "       '27-Jun-16', '26-Jun-16', '25-Jun-16', '24-Jun-16', '23-Jun-16',\n",
       "       '22-Jun-16', '21-Jun-16', '20-Jun-16', '19-Jun-16', '18-Jun-16',\n",
       "       '17-Jun-16', '16-Jun-16', '15-Jun-16', '14-Jun-16', '13-Jun-16',\n",
       "       '12-Jun-16', '11-Jun-16', '10-Jun-16', '09-Jun-16', '08-Jun-16',\n",
       "       '07-Jun-16', '06-Jun-16', '05-Jun-16', '04-Jun-16', '03-Jun-16',\n",
       "       '02-Jun-16', '01-Jun-16', '31-May-16', '30-May-16', '29-May-16',\n",
       "       '28-May-16', '27-May-16', '26-May-16', '25-May-16', '24-May-16',\n",
       "       '23-May-16', '22-May-16', '21-May-16', '20-May-16', '19-May-16',\n",
       "       '18-May-16', '17-May-16', '16-May-16', '15-May-16', '14-May-16',\n",
       "       '13-May-16', '12-May-16', '11-May-16', '10-May-16', '09-May-16',\n",
       "       '08-May-16', '07-May-16', '06-May-16', '05-May-16', '04-May-16',\n",
       "       '03-May-16', '02-May-16', '01-May-16', '30-Apr-16', '29-Apr-16',\n",
       "       '28-Apr-16', '27-Apr-16', '26-Apr-16', '25-Apr-16', '24-Apr-16',\n",
       "       '23-Apr-16', '22-Apr-16', '21-Apr-16', '20-Apr-16', '19-Apr-16',\n",
       "       '18-Apr-16', '17-Apr-16', '16-Apr-16', '15-Apr-16', '14-Apr-16',\n",
       "       '13-Apr-16', '12-Apr-16', '11-Apr-16', '10-Apr-16', '09-Apr-16',\n",
       "       '08-Apr-16', '07-Apr-16', '06-Apr-16', '05-Apr-16', '04-Apr-16',\n",
       "       '03-Apr-16', '02-Apr-16', '01-Apr-16', '31-Mar-16', '30-Mar-16',\n",
       "       '29-Mar-16', '28-Mar-16', '27-Mar-16', '26-Mar-16', '25-Mar-16',\n",
       "       '24-Mar-16', '23-Mar-16', '22-Mar-16', '21-Mar-16', '20-Mar-16',\n",
       "       '19-Mar-16', '18-Mar-16', '17-Mar-16', '16-Mar-16', '15-Mar-16',\n",
       "       '14-Mar-16', '13-Mar-16', '12-Mar-16', '11-Mar-16', '10-Mar-16',\n",
       "       '09-Mar-16', '08-Mar-16', '07-Mar-16', '06-Mar-16', '05-Mar-16',\n",
       "       '04-Mar-16', '03-Mar-16', '02-Mar-16', '01-Mar-16', '29-Feb-16',\n",
       "       '28-Feb-16', '27-Feb-16', '26-Feb-16', '25-Feb-16', '24-Feb-16',\n",
       "       '23-Feb-16', '22-Feb-16', '21-Feb-16', '20-Feb-16', '19-Feb-16',\n",
       "       '18-Feb-16', '17-Feb-16', '16-Feb-16', '15-Feb-16', '14-Feb-16',\n",
       "       '13-Feb-16', '12-Feb-16', '11-Feb-16', '10-Feb-16', '09-Feb-16',\n",
       "       '08-Feb-16', '07-Feb-16', '06-Feb-16', '05-Feb-16', '04-Feb-16',\n",
       "       '03-Feb-16', '02-Feb-16', '01-Feb-16', '31-Jan-16', '30-Jan-16',\n",
       "       '29-Jan-16', '28-Jan-16', '27-Jan-16', '26-Jan-16', '25-Jan-16',\n",
       "       '24-Jan-16', '23-Jan-16', '22-Jan-16', '21-Jan-16', '20-Jan-16',\n",
       "       '19-Jan-16', '18-Jan-16', '17-Jan-16', '16-Jan-16', '15-Jan-16',\n",
       "       '14-Jan-16', '13-Jan-16', '12-Jan-16', '11-Jan-16', '10-Jan-16',\n",
       "       '09-Jan-16', '08-Jan-16', '07-Jan-16', '06-Jan-16', '05-Jan-16',\n",
       "       '04-Jan-16', '03-Jan-16', '02-Jan-16', '01-Jan-16', '31-Dec-15',\n",
       "       '30-Dec-15', '29-Dec-15', '28-Dec-15', '27-Dec-15', '26-Dec-15',\n",
       "       '25-Dec-15', '24-Dec-15', '23-Dec-15', '22-Dec-15', '21-Dec-15',\n",
       "       '20-Dec-15', '19-Dec-15', '18-Dec-15', '17-Dec-15', '16-Dec-15',\n",
       "       '15-Dec-15', '14-Dec-15', '13-Dec-15', '12-Dec-15', '11-Dec-15',\n",
       "       '10-Dec-15', '09-Dec-15', '08-Dec-15', '07-Dec-15', '06-Dec-15',\n",
       "       '05-Dec-15', '04-Dec-15', '03-Dec-15', '02-Dec-15', '01-Dec-15',\n",
       "       '30-Nov-15', '29-Nov-15', '28-Nov-15', '27-Nov-15', '26-Nov-15',\n",
       "       '25-Nov-15', '24-Nov-15', '23-Nov-15', '22-Nov-15', '21-Nov-15',\n",
       "       '20-Nov-15', '19-Nov-15', '18-Nov-15', '17-Nov-15', '16-Nov-15',\n",
       "       '15-Nov-15', '14-Nov-15', '13-Nov-15', '12-Nov-15', '11-Nov-15',\n",
       "       '10-Nov-15', '09-Nov-15', '08-Nov-15', '07-Nov-15', '06-Nov-15',\n",
       "       '05-Nov-15', '04-Nov-15', '03-Nov-15', '02-Nov-15', '01-Nov-15',\n",
       "       '31-Oct-15', '30-Oct-15', '29-Oct-15', '28-Oct-15', '27-Oct-15',\n",
       "       '26-Oct-15', '25-Oct-15', '24-Oct-15', '23-Oct-15', '22-Oct-15',\n",
       "       '21-Oct-15', '20-Oct-15', '19-Oct-15', '18-Oct-15', '17-Oct-15',\n",
       "       '16-Oct-15', '15-Oct-15', '14-Oct-15', '13-Oct-15', '12-Oct-15',\n",
       "       '11-Oct-15', '10-Oct-15', '09-Oct-15', '08-Oct-15', '07-Oct-15',\n",
       "       '06-Oct-15', '05-Oct-15', '04-Oct-15', '03-Oct-15', '02-Oct-15',\n",
       "       '01-Oct-15', '30-Sep-15', '29-Sep-15', '28-Sep-15', '27-Sep-15',\n",
       "       '26-Sep-15', '25-Sep-15', '24-Sep-15', '23-Sep-15', '22-Sep-15',\n",
       "       '21-Sep-15', '20-Sep-15', '19-Sep-15', '18-Sep-15', '17-Sep-15',\n",
       "       '16-Sep-15', '15-Sep-15', '14-Sep-15', '13-Sep-15', '12-Sep-15',\n",
       "       '11-Sep-15', '10-Sep-15', '09-Sep-15', '08-Sep-15', '07-Sep-15',\n",
       "       '06-Sep-15', '05-Sep-15', '04-Sep-15', '03-Sep-15', '02-Sep-15',\n",
       "       '01-Sep-15', '31-Aug-15', '30-Aug-15', '29-Aug-15', '28-Aug-15',\n",
       "       '27-Aug-15', '26-Aug-15', '25-Aug-15', '24-Aug-15', '23-Aug-15',\n",
       "       '22-Aug-15', '21-Aug-15', '20-Aug-15', '19-Aug-15', '18-Aug-15',\n",
       "       '17-Aug-15', '16-Aug-15', '15-Aug-15', '14-Aug-15', '13-Aug-15',\n",
       "       '12-Aug-15', '11-Aug-15', '10-Aug-15', '09-Aug-15', '08-Aug-15',\n",
       "       '07-Aug-15', '06-Aug-15', '05-Aug-15', '04-Aug-15', '03-Aug-15',\n",
       "       '02-Aug-15', '01-Aug-15', '31-Jul-15', '30-Jul-15', '29-Jul-15',\n",
       "       '28-Jul-15', '27-Jul-15', '26-Jul-15', '25-Jul-15', '24-Jul-15',\n",
       "       '23-Jul-15', '22-Jul-15', '21-Jul-15', '20-Jul-15', '19-Jul-15',\n",
       "       '18-Jul-15', '17-Jul-15', '16-Jul-15', '15-Jul-15', '14-Jul-15',\n",
       "       '13-Jul-15', '12-Jul-15', '11-Jul-15', '10-Jul-15', '09-Jul-15',\n",
       "       '08-Jul-15', '07-Jul-15', '06-Jul-15', '05-Jul-15', '04-Jul-15',\n",
       "       '03-Jul-15', '02-Jul-15', '01-Jul-15', '30-Jun-15', '29-Jun-15',\n",
       "       '28-Jun-15', '27-Jun-15', '26-Jun-15', '25-Jun-15', '24-Jun-15',\n",
       "       '23-Jun-15', '22-Jun-15', '21-Jun-15', '20-Jun-15', '19-Jun-15',\n",
       "       '18-Jun-15', '17-Jun-15', '16-Jun-15', '15-Jun-15', '14-Jun-15',\n",
       "       '13-Jun-15', '12-Jun-15', '11-Jun-15', '10-Jun-15', '09-Jun-15',\n",
       "       '08-Jun-15', '07-Jun-15', '06-Jun-15', '05-Jun-15', '04-Jun-15',\n",
       "       '03-Jun-15', '02-Jun-15', '01-Jun-15', '31-May-15', '30-May-15',\n",
       "       '29-May-15', '28-May-15', '27-May-15', '26-May-15', '25-May-15',\n",
       "       '24-May-15', '23-May-15', '22-May-15', '21-May-15', '20-May-15',\n",
       "       '19-May-15', '18-May-15', '17-May-15', '16-May-15', '15-May-15',\n",
       "       '14-May-15', '13-May-15', '12-May-15', '11-May-15', '10-May-15',\n",
       "       '09-May-15', '08-May-15', '07-May-15', '06-May-15', '05-May-15',\n",
       "       '04-May-15', '03-May-15', '02-May-15', '01-May-15', '30-Apr-15',\n",
       "       '29-Apr-15', '28-Apr-15', '27-Apr-15', '26-Apr-15', '25-Apr-15',\n",
       "       '24-Apr-15', '23-Apr-15', '22-Apr-15', '21-Apr-15', '20-Apr-15',\n",
       "       '19-Apr-15', '18-Apr-15', '17-Apr-15', '16-Apr-15', '15-Apr-15',\n",
       "       '14-Apr-15', '13-Apr-15', '12-Apr-15', '11-Apr-15', '10-Apr-15',\n",
       "       '09-Apr-15', '08-Apr-15', '07-Apr-15', '06-Apr-15', '05-Apr-15',\n",
       "       '04-Apr-15', '03-Apr-15', '02-Apr-15', '01-Apr-15', '31-Mar-15',\n",
       "       '30-Mar-15', '29-Mar-15', '28-Mar-15', '27-Mar-15', '26-Mar-15',\n",
       "       '25-Mar-15', '24-Mar-15', '23-Mar-15', '22-Mar-15', '21-Mar-15',\n",
       "       '20-Mar-15', '19-Mar-15', '18-Mar-15', '17-Mar-15', '16-Mar-15',\n",
       "       '15-Mar-15', '14-Mar-15', '13-Mar-15', '12-Mar-15', '11-Mar-15',\n",
       "       '10-Mar-15', '09-Mar-15', '08-Mar-15', '07-Mar-15', '06-Mar-15',\n",
       "       '05-Mar-15', '04-Mar-15', '03-Mar-15', '02-Mar-15', '01-Mar-15',\n",
       "       '28-Feb-15', '27-Feb-15', '26-Feb-15', '25-Feb-15', '24-Feb-15',\n",
       "       '23-Feb-15', '22-Feb-15', '21-Feb-15', '20-Feb-15', '19-Feb-15',\n",
       "       '18-Feb-15', '17-Feb-15', '16-Feb-15', '15-Feb-15', '14-Feb-15',\n",
       "       '13-Feb-15', '12-Feb-15', '11-Feb-15', '10-Feb-15', '09-Feb-15',\n",
       "       '08-Feb-15', '07-Feb-15', '06-Feb-15', '05-Feb-15', '04-Feb-15',\n",
       "       '03-Feb-15', '02-Feb-15', '01-Feb-15', '31-Jan-15', '30-Jan-15',\n",
       "       '29-Jan-15', '28-Jan-15', '27-Jan-15', '26-Jan-15', '25-Jan-15',\n",
       "       '24-Jan-15', '23-Jan-15', '22-Jan-15', '21-Jan-15', '20-Jan-15',\n",
       "       '19-Jan-15', '18-Jan-15', '17-Jan-15', '16-Jan-15', '15-Jan-15',\n",
       "       '14-Jan-15', '13-Jan-15', '12-Jan-15', '11-Jan-15', '10-Jan-15',\n",
       "       '09-Jan-15', '08-Jan-15', '07-Jan-15', '06-Jan-15', '05-Jan-15',\n",
       "       '04-Jan-15', '03-Jan-15', '02-Jan-15', '01-Jan-15', '31-Dec-14',\n",
       "       '30-Dec-14', '29-Dec-14', '28-Dec-14', '27-Dec-14', '26-Dec-14',\n",
       "       '25-Dec-14', '24-Dec-14', '23-Dec-14', '22-Dec-14', '21-Dec-14',\n",
       "       '20-Dec-14', '19-Dec-14', '18-Dec-14', '17-Dec-14', '16-Dec-14',\n",
       "       '15-Dec-14', '14-Dec-14', '13-Dec-14', '12-Dec-14', '11-Dec-14',\n",
       "       '10-Dec-14', '09-Dec-14', '08-Dec-14', '07-Dec-14', '06-Dec-14',\n",
       "       '05-Dec-14', '04-Dec-14', '03-Dec-14', '02-Dec-14', '01-Dec-14',\n",
       "       '30-Nov-14', '29-Nov-14', '28-Nov-14', '27-Nov-14', '26-Nov-14',\n",
       "       '25-Nov-14', '24-Nov-14', '23-Nov-14', '22-Nov-14', '21-Nov-14',\n",
       "       '20-Nov-14', '19-Nov-14', '18-Nov-14', '17-Nov-14', '16-Nov-14',\n",
       "       '15-Nov-14', '14-Nov-14', '13-Nov-14', '12-Nov-14', '11-Nov-14',\n",
       "       '10-Nov-14', '09-Nov-14', '08-Nov-14', '07-Nov-14', '06-Nov-14',\n",
       "       '05-Nov-14', '04-Nov-14', '03-Nov-14', '02-Nov-14', '01-Nov-14',\n",
       "       '31-Oct-14', '30-Oct-14', '29-Oct-14', '28-Oct-14', '27-Oct-14',\n",
       "       '26-Oct-14', '25-Oct-14', '24-Oct-14', '23-Oct-14', '22-Oct-14',\n",
       "       '21-Oct-14', '20-Oct-14', '19-Oct-14', '18-Oct-14', '17-Oct-14',\n",
       "       '16-Oct-14', '15-Oct-14', '14-Oct-14', '13-Oct-14', '12-Oct-14',\n",
       "       '11-Oct-14', '10-Oct-14', '09-Oct-14', '08-Oct-14', '07-Oct-14',\n",
       "       '06-Oct-14', '05-Oct-14', '04-Oct-14', '03-Oct-14', '02-Oct-14',\n",
       "       '01-Oct-14', '30-Sep-14', '29-Sep-14', '28-Sep-14', '27-Sep-14',\n",
       "       '26-Sep-14', '25-Sep-14', '24-Sep-14', '23-Sep-14', '22-Sep-14',\n",
       "       '21-Sep-14', '20-Sep-14', '19-Sep-14', '18-Sep-14', '17-Sep-14',\n",
       "       '16-Sep-14', '15-Sep-14', '14-Sep-14', '13-Sep-14', '12-Sep-14',\n",
       "       '11-Sep-14', '10-Sep-14', '09-Sep-14', '08-Sep-14', '07-Sep-14',\n",
       "       '06-Sep-14', '05-Sep-14', '04-Sep-14', '03-Sep-14', '02-Sep-14',\n",
       "       '01-Sep-14', '31-Aug-14', '30-Aug-14', '29-Aug-14', '28-Aug-14',\n",
       "       '27-Aug-14', '26-Aug-14', '25-Aug-14', '24-Aug-14', '23-Aug-14',\n",
       "       '22-Aug-14', '21-Aug-14', '20-Aug-14', '19-Aug-14', '18-Aug-14',\n",
       "       '17-Aug-14', '16-Aug-14', '15-Aug-14', '14-Aug-14', '13-Aug-14',\n",
       "       '12-Aug-14', '11-Aug-14', '10-Aug-14', '09-Aug-14', '08-Aug-14',\n",
       "       '07-Aug-14', '06-Aug-14', '05-Aug-14', '04-Aug-14', '03-Aug-14',\n",
       "       '02-Aug-14', '01-Aug-14', '31-Jul-14', '30-Jul-14', '29-Jul-14',\n",
       "       '28-Jul-14', '27-Jul-14', '26-Jul-14', '25-Jul-14', '24-Jul-14',\n",
       "       '23-Jul-14', '22-Jul-14', '21-Jul-14', '20-Jul-14', '19-Jul-14',\n",
       "       '18-Jul-14', '17-Jul-14', '16-Jul-14', '15-Jul-14', '14-Jul-14',\n",
       "       '13-Jul-14', '12-Jul-14', '11-Jul-14', '10-Jul-14', '09-Jul-14',\n",
       "       '08-Jul-14', '07-Jul-14', '06-Jul-14', '05-Jul-14', '04-Jul-14',\n",
       "       '03-Jul-14', '02-Jul-14', '01-Jul-14', '30-Jun-14', '29-Jun-14',\n",
       "       '28-Jun-14', '27-Jun-14', '26-Jun-14', '25-Jun-14', '24-Jun-14',\n",
       "       '23-Jun-14', '22-Jun-14', '21-Jun-14', '20-Jun-14', '19-Jun-14',\n",
       "       '18-Jun-14', '17-Jun-14', '16-Jun-14', '15-Jun-14', '14-Jun-14',\n",
       "       '13-Jun-14', '12-Jun-14', '11-Jun-14', '10-Jun-14', '09-Jun-14',\n",
       "       '08-Jun-14', '07-Jun-14', '06-Jun-14', '05-Jun-14', '04-Jun-14',\n",
       "       '03-Jun-14', '02-Jun-14', '01-Jun-14', '31-May-14', '30-May-14',\n",
       "       '29-May-14', '28-May-14', '27-May-14', '26-May-14', '25-May-14',\n",
       "       '24-May-14', '23-May-14', '22-May-14', '21-May-14', '20-May-14',\n",
       "       '19-May-14', '18-May-14', '17-May-14', '16-May-14', '15-May-14',\n",
       "       '14-May-14', '13-May-14', '12-May-14', '11-May-14', '10-May-14',\n",
       "       '09-May-14', '08-May-14', '07-May-14', '06-May-14', '05-May-14',\n",
       "       '04-May-14', '03-May-14', '02-May-14', '01-May-14', '30-Apr-14',\n",
       "       '29-Apr-14', '28-Apr-14', '27-Apr-14', '26-Apr-14', '25-Apr-14',\n",
       "       '24-Apr-14', '23-Apr-14', '22-Apr-14', '21-Apr-14', '20-Apr-14',\n",
       "       '19-Apr-14', '18-Apr-14', '17-Apr-14', '16-Apr-14', '15-Apr-14',\n",
       "       '14-Apr-14', '13-Apr-14', '12-Apr-14', '11-Apr-14', '10-Apr-14',\n",
       "       '09-Apr-14', '08-Apr-14', '07-Apr-14', '06-Apr-14', '05-Apr-14',\n",
       "       '04-Apr-14', '03-Apr-14', '02-Apr-14', '01-Apr-14', '31-Mar-14',\n",
       "       '30-Mar-14', '29-Mar-14', '28-Mar-14', '27-Mar-14', '26-Mar-14',\n",
       "       '25-Mar-14', '24-Mar-14', '23-Mar-14', '22-Mar-14', '21-Mar-14',\n",
       "       '20-Mar-14', '19-Mar-14', '18-Mar-14', '17-Mar-14', '16-Mar-14',\n",
       "       '15-Mar-14', '14-Mar-14', '13-Mar-14', '12-Mar-14', '11-Mar-14',\n",
       "       '10-Mar-14', '09-Mar-14', '08-Mar-14', '07-Mar-14', '06-Mar-14',\n",
       "       '05-Mar-14', '04-Mar-14', '03-Mar-14', '02-Mar-14', '01-Mar-14',\n",
       "       '28-Feb-14', '27-Feb-14', '26-Feb-14', '25-Feb-14', '24-Feb-14',\n",
       "       '23-Feb-14', '22-Feb-14', '21-Feb-14', '20-Feb-14', '19-Feb-14',\n",
       "       '18-Feb-14', '17-Feb-14', '16-Feb-14', '15-Feb-14', '14-Feb-14',\n",
       "       '13-Feb-14', '12-Feb-14', '11-Feb-14', '10-Feb-14', '09-Feb-14',\n",
       "       '08-Feb-14', '07-Feb-14', '06-Feb-14', '05-Feb-14', '04-Feb-14',\n",
       "       '03-Feb-14', '02-Feb-14', '01-Feb-14', '31-Jan-14', '30-Jan-14',\n",
       "       '29-Jan-14', '28-Jan-14', '27-Jan-14', '26-Jan-14', '25-Jan-14',\n",
       "       '24-Jan-14', '23-Jan-14', '22-Jan-14', '21-Jan-14', '20-Jan-14',\n",
       "       '19-Jan-14', '18-Jan-14', '17-Jan-14', '16-Jan-14', '15-Jan-14',\n",
       "       '14-Jan-14', '13-Jan-14', '12-Jan-14', '11-Jan-14', '10-Jan-14',\n",
       "       '09-Jan-14', '07-Jan-14', '04-Jan-14', '03-Jan-14', '02-Jan-14',\n",
       "       '01-Jan-14'], dtype=object)"
      ]
     },
     "execution_count": 66,
     "metadata": {},
     "output_type": "execute_result"
    }
   ],
   "source": [
    "df['Date'].unique()"
   ]
  },
  {
   "cell_type": "code",
   "execution_count": 67,
   "metadata": {},
   "outputs": [
    {
     "data": {
      "text/plain": [
       "Date     0\n",
       "Model    0\n",
       "Count    0\n",
       "dtype: int64"
      ]
     },
     "execution_count": 67,
     "metadata": {},
     "output_type": "execute_result"
    }
   ],
   "source": [
    "#Check null value\n",
    "df.isnull().sum()"
   ]
  },
  {
   "cell_type": "code",
   "execution_count": 68,
   "metadata": {},
   "outputs": [],
   "source": [
    "#Relationship analysis\n",
    "corelation = df.corr()\n"
   ]
  },
  {
   "cell_type": "code",
   "execution_count": 69,
   "metadata": {},
   "outputs": [
    {
     "data": {
      "image/png": "[encoded data removed]",
      "text/plain": [
       "<Figure size 432x288 with 2 Axes>"
      ]
     },
     "metadata": {
      "needs_background": "light"
     },
     "output_type": "display_data"
    },
    {
     "data": {
      "text/plain": [
       "<Figure size 432x288 with 0 Axes>"
      ]
     },
     "metadata": {},
     "output_type": "display_data"
    }
   ],
   "source": [
    "sns.heatmap(corelation, \n",
    "        xticklabels=corelation.columns,\n",
    "        yticklabels=corelation.columns, annot=True)\n",
    "plt.show()\n",
    "plt.savefig(\"Corelation.png\", bbox_inches=\"tight\")"
   ]
  },
  {
   "cell_type": "code",
   "execution_count": 70,
   "metadata": {},
   "outputs": [
    {
     "data": {
      "image/png": "[encoded data removed]",
      "text/plain": [
       "<Figure size 180x180 with 2 Axes>"
      ]
     },
     "metadata": {
      "needs_background": "light"
     },
     "output_type": "display_data"
    }
   ],
   "source": [
    "#pair plot\n",
    "sns.pairplot(df)\n",
    "plt.savefig(\"pairplot.png\", bbox_inches=\"tight\")"
   ]
  },
  {
   "cell_type": "code",
   "execution_count": 71,
   "metadata": {},
   "outputs": [
    {
     "data": {
      "text/plain": [
       "Index(['Date', 'Model', 'Count'], dtype='object')"
      ]
     },
     "execution_count": 71,
     "metadata": {},
     "output_type": "execute_result"
    }
   ],
   "source": [
    "df.columns"
   ]
  },
  {
   "cell_type": "code",
   "execution_count": 75,
   "metadata": {},
   "outputs": [
    {
     "data": {
      "image/png": "[encoded data removed]",
      "text/plain": [
       "<Figure size 423.75x360 with 1 Axes>"
      ]
     },
     "metadata": {
      "needs_background": "light"
     },
     "output_type": "display_data"
    }
   ],
   "source": [
    "sns.relplot(x= 'Date', y = 'Count', hue= 'Model', data= df)\n",
    "plt.savefig(\"plot.png\", bbox_inches=\"tight\")"
   ]
  },
  {
   "cell_type": "code",
   "execution_count": 76,
   "metadata": {},
   "outputs": [
    {
     "name": "stderr",
     "output_type": "stream",
     "text": [
      "G:\\CSE Apps\\Anaconda\\lib\\site-packages\\seaborn\\distributions.py:2551: FutureWarning: `distplot` is a deprecated function and will be removed in a future version. Please adapt your code to use either `displot` (a figure-level function with similar flexibility) or `histplot` (an axes-level function for histograms).\n",
      "  warnings.warn(msg, FutureWarning)\n"
     ]
    },
    {
     "data": {
      "image/png": "[encoded data removed]",
      "text/plain": [
       "<Figure size 432x288 with 1 Axes>"
      ]
     },
     "metadata": {
      "needs_background": "light"
     },
     "output_type": "display_data"
    }
   ],
   "source": [
    "sns.distplot(df['Count'], bins =7)\n",
    "plt.savefig(\"histogram.png\", bbox_inches=\"tight\")"
   ]
  },
  {
   "cell_type": "code",
   "execution_count": 77,
   "metadata": {},
   "outputs": [
    {
     "name": "stderr",
     "output_type": "stream",
     "text": [
      "G:\\CSE Apps\\Anaconda\\lib\\site-packages\\seaborn\\_decorators.py:36: FutureWarning: Pass the following variables as keyword args: x, y. From version 0.12, the only valid positional argument will be `data`, and passing other arguments without an explicit keyword will result in an error or misinterpretation.\n",
      "  warnings.warn(\n"
     ]
    },
    {
     "data": {
      "image/png": "[encoded data removed]",
      "text/plain": [
       "<Figure size 864x3456 with 1 Axes>"
      ]
     },
     "metadata": {
      "needs_background": "light"
     },
     "output_type": "display_data"
    },
    {
     "data": {
      "text/plain": [
       "<Figure size 432x288 with 0 Axes>"
      ]
     },
     "metadata": {},
     "output_type": "display_data"
    }
   ],
   "source": [
    "# show a bar chart using a group\n",
    "grp_model = df.groupby('Model')['Count'].apply(lambda x: x.sum())\n",
    "grp_model.sort_values(axis=0, ascending=False, inplace=True)\n",
    "f, ax = plt.subplots(figsize=(12, 48))\n",
    "ax=sns.barplot(grp_model, grp_model.index,orient='h')\n",
    "ax.set(title='Models VS. Sell',xlabel='Count of sell', ylabel='Model name')\n",
    "plt.show()\n",
    "plt.savefig(\"Bar chart.png\", bbox_inches=\"tight\")"
   ]
  },
  {
   "cell_type": "code",
   "execution_count": 78,
   "metadata": {},
   "outputs": [
    {
     "data": {
      "image/png": "[encoded data removed]",
      "text/plain": [
       "<Figure size 936x504 with 1 Axes>"
      ]
     },
     "metadata": {
      "needs_background": "light"
     },
     "output_type": "display_data"
    },
    {
     "data": {
      "text/plain": [
       "<Figure size 432x288 with 0 Axes>"
      ]
     },
     "metadata": {},
     "output_type": "display_data"
    }
   ],
   "source": [
    "#time vs sell\n",
    "\n",
    "df['Date'] = pd.to_datetime(df['Date']) \n",
    "grp_time = df.groupby('Date')['Count'].apply(lambda x: x.sum())\n",
    "grp_time_mean = df.groupby('Date')['Count'].apply(lambda x: x.count())\n",
    "\n",
    "plt.figure(figsize=(13,7))\n",
    "plt.title(' sell VS. Time (all)')\n",
    "plt.ylabel('Count of sell')\n",
    "plt.xlabel('time')\n",
    "plt.plot(grp_time.index,grp_time)\n",
    "plt.plot(grp_time_mean.index,grp_time/grp_time_mean)\n",
    "plt.show()\n",
    "plt.savefig(\"Sell vs time graph.png\", bbox_inches=\"tight\")"
   ]
  },
  {
   "cell_type": "code",
   "execution_count": 81,
   "metadata": {},
   "outputs": [],
   "source": [
    "df['Date'] = pd.to_numeric(pd.to_datetime(df['Date']))"
   ]
  },
  {
   "cell_type": "code",
   "execution_count": 82,
   "metadata": {},
   "outputs": [
    {
     "data": {
      "text/plain": [
       "Date      int64\n",
       "Model    object\n",
       "Count     int64\n",
       "dtype: object"
      ]
     },
     "execution_count": 82,
     "metadata": {},
     "output_type": "execute_result"
    }
   ],
   "source": [
    "df.dtypes"
   ]
  },
  {
   "cell_type": "code",
   "execution_count": 83,
   "metadata": {},
   "outputs": [],
   "source": [
    "x = df.drop(['Count'],axis=1)"
   ]
  },
  {
   "cell_type": "code",
   "execution_count": 84,
   "metadata": {},
   "outputs": [
    {
     "data": {
      "text/html": [
       "<div>\n",
       "<style scoped>\n",
       "    .dataframe tbody tr th:only-of-type {\n",
       "        vertical-align: middle;\n",
       "    }\n",
       "\n",
       "    .dataframe tbody tr th {\n",
       "        vertical-align: top;\n",
       "    }\n",
       "\n",
       "    .dataframe thead th {\n",
       "        text-align: right;\n",
       "    }\n",
       "</style>\n",
       "<table border=\"1\" class=\"dataframe\">\n",
       "  <thead>\n",
       "    <tr style=\"text-align: right;\">\n",
       "      <th></th>\n",
       "      <th>Date</th>\n",
       "      <th>Model</th>\n",
       "    </tr>\n",
       "  </thead>\n",
       "  <tbody>\n",
       "    <tr>\n",
       "      <th>0</th>\n",
       "      <td>1472601600000000000</td>\n",
       "      <td>M45</td>\n",
       "    </tr>\n",
       "    <tr>\n",
       "      <th>1</th>\n",
       "      <td>1472601600000000000</td>\n",
       "      <td>M121</td>\n",
       "    </tr>\n",
       "    <tr>\n",
       "      <th>2</th>\n",
       "      <td>1472601600000000000</td>\n",
       "      <td>M122</td>\n",
       "    </tr>\n",
       "    <tr>\n",
       "      <th>3</th>\n",
       "      <td>1472601600000000000</td>\n",
       "      <td>M91</td>\n",
       "    </tr>\n",
       "    <tr>\n",
       "      <th>4</th>\n",
       "      <td>1472601600000000000</td>\n",
       "      <td>M66</td>\n",
       "    </tr>\n",
       "    <tr>\n",
       "      <th>...</th>\n",
       "      <td>...</td>\n",
       "      <td>...</td>\n",
       "    </tr>\n",
       "    <tr>\n",
       "      <th>46111</th>\n",
       "      <td>1388534400000000000</td>\n",
       "      <td>M74</td>\n",
       "    </tr>\n",
       "    <tr>\n",
       "      <th>46112</th>\n",
       "      <td>1388534400000000000</td>\n",
       "      <td>M59</td>\n",
       "    </tr>\n",
       "    <tr>\n",
       "      <th>46113</th>\n",
       "      <td>1388534400000000000</td>\n",
       "      <td>M60</td>\n",
       "    </tr>\n",
       "    <tr>\n",
       "      <th>46114</th>\n",
       "      <td>1388534400000000000</td>\n",
       "      <td>M54</td>\n",
       "    </tr>\n",
       "    <tr>\n",
       "      <th>46115</th>\n",
       "      <td>1388534400000000000</td>\n",
       "      <td>M58</td>\n",
       "    </tr>\n",
       "  </tbody>\n",
       "</table>\n",
       "<p>46116 rows × 2 columns</p>\n",
       "</div>"
      ],
      "text/plain": [
       "                      Date Model\n",
       "0      1472601600000000000   M45\n",
       "1      1472601600000000000  M121\n",
       "2      1472601600000000000  M122\n",
       "3      1472601600000000000   M91\n",
       "4      1472601600000000000   M66\n",
       "...                    ...   ...\n",
       "46111  1388534400000000000   M74\n",
       "46112  1388534400000000000   M59\n",
       "46113  1388534400000000000   M60\n",
       "46114  1388534400000000000   M54\n",
       "46115  1388534400000000000   M58\n",
       "\n",
       "[46116 rows x 2 columns]"
      ]
     },
     "execution_count": 84,
     "metadata": {},
     "output_type": "execute_result"
    }
   ],
   "source": [
    "x"
   ]
  },
  {
   "cell_type": "code",
   "execution_count": 85,
   "metadata": {},
   "outputs": [],
   "source": [
    "y = df['Count']"
   ]
  },
  {
   "cell_type": "code",
   "execution_count": 86,
   "metadata": {},
   "outputs": [
    {
     "data": {
      "text/plain": [
       "0         5\n",
       "1         3\n",
       "2         4\n",
       "3        10\n",
       "4        57\n",
       "         ..\n",
       "46111     1\n",
       "46112     1\n",
       "46113     5\n",
       "46114     1\n",
       "46115     1\n",
       "Name: Count, Length: 46116, dtype: int64"
      ]
     },
     "execution_count": 86,
     "metadata": {},
     "output_type": "execute_result"
    }
   ],
   "source": [
    "y"
   ]
  },
  {
   "cell_type": "code",
   "execution_count": 87,
   "metadata": {},
   "outputs": [],
   "source": [
    "#one hot encoding\n",
    "model = pd.get_dummies(x['Model'],drop_first=True)"
   ]
  },
  {
   "cell_type": "code",
   "execution_count": 157,
   "metadata": {},
   "outputs": [
    {
     "data": {
      "text/html": [
       "<div>\n",
       "<style scoped>\n",
       "    .dataframe tbody tr th:only-of-type {\n",
       "        vertical-align: middle;\n",
       "    }\n",
       "\n",
       "    .dataframe tbody tr th {\n",
       "        vertical-align: top;\n",
       "    }\n",
       "\n",
       "    .dataframe thead th {\n",
       "        text-align: right;\n",
       "    }\n",
       "</style>\n",
       "<table border=\"1\" class=\"dataframe\">\n",
       "  <thead>\n",
       "    <tr style=\"text-align: right;\">\n",
       "      <th></th>\n",
       "      <th>M10</th>\n",
       "      <th>M100</th>\n",
       "      <th>M101</th>\n",
       "      <th>M102</th>\n",
       "      <th>M103</th>\n",
       "      <th>M104</th>\n",
       "      <th>M105</th>\n",
       "      <th>M106</th>\n",
       "      <th>M107</th>\n",
       "      <th>M108</th>\n",
       "      <th>...</th>\n",
       "      <th>M90</th>\n",
       "      <th>M91</th>\n",
       "      <th>M92</th>\n",
       "      <th>M93</th>\n",
       "      <th>M94</th>\n",
       "      <th>M95</th>\n",
       "      <th>M96</th>\n",
       "      <th>M97</th>\n",
       "      <th>M98</th>\n",
       "      <th>M99</th>\n",
       "    </tr>\n",
       "  </thead>\n",
       "  <tbody>\n",
       "    <tr>\n",
       "      <th>0</th>\n",
       "      <td>0</td>\n",
       "      <td>0</td>\n",
       "      <td>0</td>\n",
       "      <td>0</td>\n",
       "      <td>0</td>\n",
       "      <td>0</td>\n",
       "      <td>0</td>\n",
       "      <td>0</td>\n",
       "      <td>0</td>\n",
       "      <td>0</td>\n",
       "      <td>...</td>\n",
       "      <td>0</td>\n",
       "      <td>0</td>\n",
       "      <td>0</td>\n",
       "      <td>0</td>\n",
       "      <td>0</td>\n",
       "      <td>0</td>\n",
       "      <td>0</td>\n",
       "      <td>0</td>\n",
       "      <td>0</td>\n",
       "      <td>0</td>\n",
       "    </tr>\n",
       "    <tr>\n",
       "      <th>1</th>\n",
       "      <td>0</td>\n",
       "      <td>0</td>\n",
       "      <td>0</td>\n",
       "      <td>0</td>\n",
       "      <td>0</td>\n",
       "      <td>0</td>\n",
       "      <td>0</td>\n",
       "      <td>0</td>\n",
       "      <td>0</td>\n",
       "      <td>0</td>\n",
       "      <td>...</td>\n",
       "      <td>0</td>\n",
       "      <td>0</td>\n",
       "      <td>0</td>\n",
       "      <td>0</td>\n",
       "      <td>0</td>\n",
       "      <td>0</td>\n",
       "      <td>0</td>\n",
       "      <td>0</td>\n",
       "      <td>0</td>\n",
       "      <td>0</td>\n",
       "    </tr>\n",
       "    <tr>\n",
       "      <th>2</th>\n",
       "      <td>0</td>\n",
       "      <td>0</td>\n",
       "      <td>0</td>\n",
       "      <td>0</td>\n",
       "      <td>0</td>\n",
       "      <td>0</td>\n",
       "      <td>0</td>\n",
       "      <td>0</td>\n",
       "      <td>0</td>\n",
       "      <td>0</td>\n",
       "      <td>...</td>\n",
       "      <td>0</td>\n",
       "      <td>0</td>\n",
       "      <td>0</td>\n",
       "      <td>0</td>\n",
       "      <td>0</td>\n",
       "      <td>0</td>\n",
       "      <td>0</td>\n",
       "      <td>0</td>\n",
       "      <td>0</td>\n",
       "      <td>0</td>\n",
       "    </tr>\n",
       "    <tr>\n",
       "      <th>3</th>\n",
       "      <td>0</td>\n",
       "      <td>0</td>\n",
       "      <td>0</td>\n",
       "      <td>0</td>\n",
       "      <td>0</td>\n",
       "      <td>0</td>\n",
       "      <td>0</td>\n",
       "      <td>0</td>\n",
       "      <td>0</td>\n",
       "      <td>0</td>\n",
       "      <td>...</td>\n",
       "      <td>0</td>\n",
       "      <td>1</td>\n",
       "      <td>0</td>\n",
       "      <td>0</td>\n",
       "      <td>0</td>\n",
       "      <td>0</td>\n",
       "      <td>0</td>\n",
       "      <td>0</td>\n",
       "      <td>0</td>\n",
       "      <td>0</td>\n",
       "    </tr>\n",
       "    <tr>\n",
       "      <th>4</th>\n",
       "      <td>0</td>\n",
       "      <td>0</td>\n",
       "      <td>0</td>\n",
       "      <td>0</td>\n",
       "      <td>0</td>\n",
       "      <td>0</td>\n",
       "      <td>0</td>\n",
       "      <td>0</td>\n",
       "      <td>0</td>\n",
       "      <td>0</td>\n",
       "      <td>...</td>\n",
       "      <td>0</td>\n",
       "      <td>0</td>\n",
       "      <td>0</td>\n",
       "      <td>0</td>\n",
       "      <td>0</td>\n",
       "      <td>0</td>\n",
       "      <td>0</td>\n",
       "      <td>0</td>\n",
       "      <td>0</td>\n",
       "      <td>0</td>\n",
       "    </tr>\n",
       "    <tr>\n",
       "      <th>...</th>\n",
       "      <td>...</td>\n",
       "      <td>...</td>\n",
       "      <td>...</td>\n",
       "      <td>...</td>\n",
       "      <td>...</td>\n",
       "      <td>...</td>\n",
       "      <td>...</td>\n",
       "      <td>...</td>\n",
       "      <td>...</td>\n",
       "      <td>...</td>\n",
       "      <td>...</td>\n",
       "      <td>...</td>\n",
       "      <td>...</td>\n",
       "      <td>...</td>\n",
       "      <td>...</td>\n",
       "      <td>...</td>\n",
       "      <td>...</td>\n",
       "      <td>...</td>\n",
       "      <td>...</td>\n",
       "      <td>...</td>\n",
       "      <td>...</td>\n",
       "    </tr>\n",
       "    <tr>\n",
       "      <th>46111</th>\n",
       "      <td>0</td>\n",
       "      <td>0</td>\n",
       "      <td>0</td>\n",
       "      <td>0</td>\n",
       "      <td>0</td>\n",
       "      <td>0</td>\n",
       "      <td>0</td>\n",
       "      <td>0</td>\n",
       "      <td>0</td>\n",
       "      <td>0</td>\n",
       "      <td>...</td>\n",
       "      <td>0</td>\n",
       "      <td>0</td>\n",
       "      <td>0</td>\n",
       "      <td>0</td>\n",
       "      <td>0</td>\n",
       "      <td>0</td>\n",
       "      <td>0</td>\n",
       "      <td>0</td>\n",
       "      <td>0</td>\n",
       "      <td>0</td>\n",
       "    </tr>\n",
       "    <tr>\n",
       "      <th>46112</th>\n",
       "      <td>0</td>\n",
       "      <td>0</td>\n",
       "      <td>0</td>\n",
       "      <td>0</td>\n",
       "      <td>0</td>\n",
       "      <td>0</td>\n",
       "      <td>0</td>\n",
       "      <td>0</td>\n",
       "      <td>0</td>\n",
       "      <td>0</td>\n",
       "      <td>...</td>\n",
       "      <td>0</td>\n",
       "      <td>0</td>\n",
       "      <td>0</td>\n",
       "      <td>0</td>\n",
       "      <td>0</td>\n",
       "      <td>0</td>\n",
       "      <td>0</td>\n",
       "      <td>0</td>\n",
       "      <td>0</td>\n",
       "      <td>0</td>\n",
       "    </tr>\n",
       "    <tr>\n",
       "      <th>46113</th>\n",
       "      <td>0</td>\n",
       "      <td>0</td>\n",
       "      <td>0</td>\n",
       "      <td>0</td>\n",
       "      <td>0</td>\n",
       "      <td>0</td>\n",
       "      <td>0</td>\n",
       "      <td>0</td>\n",
       "      <td>0</td>\n",
       "      <td>0</td>\n",
       "      <td>...</td>\n",
       "      <td>0</td>\n",
       "      <td>0</td>\n",
       "      <td>0</td>\n",
       "      <td>0</td>\n",
       "      <td>0</td>\n",
       "      <td>0</td>\n",
       "      <td>0</td>\n",
       "      <td>0</td>\n",
       "      <td>0</td>\n",
       "      <td>0</td>\n",
       "    </tr>\n",
       "    <tr>\n",
       "      <th>46114</th>\n",
       "      <td>0</td>\n",
       "      <td>0</td>\n",
       "      <td>0</td>\n",
       "      <td>0</td>\n",
       "      <td>0</td>\n",
       "      <td>0</td>\n",
       "      <td>0</td>\n",
       "      <td>0</td>\n",
       "      <td>0</td>\n",
       "      <td>0</td>\n",
       "      <td>...</td>\n",
       "      <td>0</td>\n",
       "      <td>0</td>\n",
       "      <td>0</td>\n",
       "      <td>0</td>\n",
       "      <td>0</td>\n",
       "      <td>0</td>\n",
       "      <td>0</td>\n",
       "      <td>0</td>\n",
       "      <td>0</td>\n",
       "      <td>0</td>\n",
       "    </tr>\n",
       "    <tr>\n",
       "      <th>46115</th>\n",
       "      <td>0</td>\n",
       "      <td>0</td>\n",
       "      <td>0</td>\n",
       "      <td>0</td>\n",
       "      <td>0</td>\n",
       "      <td>0</td>\n",
       "      <td>0</td>\n",
       "      <td>0</td>\n",
       "      <td>0</td>\n",
       "      <td>0</td>\n",
       "      <td>...</td>\n",
       "      <td>0</td>\n",
       "      <td>0</td>\n",
       "      <td>0</td>\n",
       "      <td>0</td>\n",
       "      <td>0</td>\n",
       "      <td>0</td>\n",
       "      <td>0</td>\n",
       "      <td>0</td>\n",
       "      <td>0</td>\n",
       "      <td>0</td>\n",
       "    </tr>\n",
       "  </tbody>\n",
       "</table>\n",
       "<p>46116 rows × 123 columns</p>\n",
       "</div>"
      ],
      "text/plain": [
       "       M10  M100  M101  M102  M103  M104  M105  M106  M107  M108  ...  M90  \\\n",
       "0        0     0     0     0     0     0     0     0     0     0  ...    0   \n",
       "1        0     0     0     0     0     0     0     0     0     0  ...    0   \n",
       "2        0     0     0     0     0     0     0     0     0     0  ...    0   \n",
       "3        0     0     0     0     0     0     0     0     0     0  ...    0   \n",
       "4        0     0     0     0     0     0     0     0     0     0  ...    0   \n",
       "...    ...   ...   ...   ...   ...   ...   ...   ...   ...   ...  ...  ...   \n",
       "46111    0     0     0     0     0     0     0     0     0     0  ...    0   \n",
       "46112    0     0     0     0     0     0     0     0     0     0  ...    0   \n",
       "46113    0     0     0     0     0     0     0     0     0     0  ...    0   \n",
       "46114    0     0     0     0     0     0     0     0     0     0  ...    0   \n",
       "46115    0     0     0     0     0     0     0     0     0     0  ...    0   \n",
       "\n",
       "       M91  M92  M93  M94  M95  M96  M97  M98  M99  \n",
       "0        0    0    0    0    0    0    0    0    0  \n",
       "1        0    0    0    0    0    0    0    0    0  \n",
       "2        0    0    0    0    0    0    0    0    0  \n",
       "3        1    0    0    0    0    0    0    0    0  \n",
       "4        0    0    0    0    0    0    0    0    0  \n",
       "...    ...  ...  ...  ...  ...  ...  ...  ...  ...  \n",
       "46111    0    0    0    0    0    0    0    0    0  \n",
       "46112    0    0    0    0    0    0    0    0    0  \n",
       "46113    0    0    0    0    0    0    0    0    0  \n",
       "46114    0    0    0    0    0    0    0    0    0  \n",
       "46115    0    0    0    0    0    0    0    0    0  \n",
       "\n",
       "[46116 rows x 123 columns]"
      ]
     },
     "execution_count": 157,
     "metadata": {},
     "output_type": "execute_result"
    }
   ],
   "source": [
    "model"
   ]
  },
  {
   "cell_type": "code",
   "execution_count": 88,
   "metadata": {},
   "outputs": [],
   "source": [
    "x = x.drop('Model',axis=1)"
   ]
  },
  {
   "cell_type": "code",
   "execution_count": 89,
   "metadata": {},
   "outputs": [
    {
     "data": {
      "text/html": [
       "<div>\n",
       "<style scoped>\n",
       "    .dataframe tbody tr th:only-of-type {\n",
       "        vertical-align: middle;\n",
       "    }\n",
       "\n",
       "    .dataframe tbody tr th {\n",
       "        vertical-align: top;\n",
       "    }\n",
       "\n",
       "    .dataframe thead th {\n",
       "        text-align: right;\n",
       "    }\n",
       "</style>\n",
       "<table border=\"1\" class=\"dataframe\">\n",
       "  <thead>\n",
       "    <tr style=\"text-align: right;\">\n",
       "      <th></th>\n",
       "      <th>Date</th>\n",
       "    </tr>\n",
       "  </thead>\n",
       "  <tbody>\n",
       "    <tr>\n",
       "      <th>0</th>\n",
       "      <td>1472601600000000000</td>\n",
       "    </tr>\n",
       "    <tr>\n",
       "      <th>1</th>\n",
       "      <td>1472601600000000000</td>\n",
       "    </tr>\n",
       "    <tr>\n",
       "      <th>2</th>\n",
       "      <td>1472601600000000000</td>\n",
       "    </tr>\n",
       "    <tr>\n",
       "      <th>3</th>\n",
       "      <td>1472601600000000000</td>\n",
       "    </tr>\n",
       "    <tr>\n",
       "      <th>4</th>\n",
       "      <td>1472601600000000000</td>\n",
       "    </tr>\n",
       "    <tr>\n",
       "      <th>...</th>\n",
       "      <td>...</td>\n",
       "    </tr>\n",
       "    <tr>\n",
       "      <th>46111</th>\n",
       "      <td>1388534400000000000</td>\n",
       "    </tr>\n",
       "    <tr>\n",
       "      <th>46112</th>\n",
       "      <td>1388534400000000000</td>\n",
       "    </tr>\n",
       "    <tr>\n",
       "      <th>46113</th>\n",
       "      <td>1388534400000000000</td>\n",
       "    </tr>\n",
       "    <tr>\n",
       "      <th>46114</th>\n",
       "      <td>1388534400000000000</td>\n",
       "    </tr>\n",
       "    <tr>\n",
       "      <th>46115</th>\n",
       "      <td>1388534400000000000</td>\n",
       "    </tr>\n",
       "  </tbody>\n",
       "</table>\n",
       "<p>46116 rows × 1 columns</p>\n",
       "</div>"
      ],
      "text/plain": [
       "                      Date\n",
       "0      1472601600000000000\n",
       "1      1472601600000000000\n",
       "2      1472601600000000000\n",
       "3      1472601600000000000\n",
       "4      1472601600000000000\n",
       "...                    ...\n",
       "46111  1388534400000000000\n",
       "46112  1388534400000000000\n",
       "46113  1388534400000000000\n",
       "46114  1388534400000000000\n",
       "46115  1388534400000000000\n",
       "\n",
       "[46116 rows x 1 columns]"
      ]
     },
     "execution_count": 89,
     "metadata": {},
     "output_type": "execute_result"
    }
   ],
   "source": [
    "x"
   ]
  },
  {
   "cell_type": "code",
   "execution_count": 90,
   "metadata": {},
   "outputs": [],
   "source": [
    "x = pd.concat([x,model],axis=1)"
   ]
  },
  {
   "cell_type": "code",
   "execution_count": 91,
   "metadata": {},
   "outputs": [
    {
     "data": {
      "text/html": [
       "<div>\n",
       "<style scoped>\n",
       "    .dataframe tbody tr th:only-of-type {\n",
       "        vertical-align: middle;\n",
       "    }\n",
       "\n",
       "    .dataframe tbody tr th {\n",
       "        vertical-align: top;\n",
       "    }\n",
       "\n",
       "    .dataframe thead th {\n",
       "        text-align: right;\n",
       "    }\n",
       "</style>\n",
       "<table border=\"1\" class=\"dataframe\">\n",
       "  <thead>\n",
       "    <tr style=\"text-align: right;\">\n",
       "      <th></th>\n",
       "      <th>Date</th>\n",
       "      <th>M10</th>\n",
       "      <th>M100</th>\n",
       "      <th>M101</th>\n",
       "      <th>M102</th>\n",
       "      <th>M103</th>\n",
       "      <th>M104</th>\n",
       "      <th>M105</th>\n",
       "      <th>M106</th>\n",
       "      <th>M107</th>\n",
       "      <th>...</th>\n",
       "      <th>M90</th>\n",
       "      <th>M91</th>\n",
       "      <th>M92</th>\n",
       "      <th>M93</th>\n",
       "      <th>M94</th>\n",
       "      <th>M95</th>\n",
       "      <th>M96</th>\n",
       "      <th>M97</th>\n",
       "      <th>M98</th>\n",
       "      <th>M99</th>\n",
       "    </tr>\n",
       "  </thead>\n",
       "  <tbody>\n",
       "    <tr>\n",
       "      <th>0</th>\n",
       "      <td>1472601600000000000</td>\n",
       "      <td>0</td>\n",
       "      <td>0</td>\n",
       "      <td>0</td>\n",
       "      <td>0</td>\n",
       "      <td>0</td>\n",
       "      <td>0</td>\n",
       "      <td>0</td>\n",
       "      <td>0</td>\n",
       "      <td>0</td>\n",
       "      <td>...</td>\n",
       "      <td>0</td>\n",
       "      <td>0</td>\n",
       "      <td>0</td>\n",
       "      <td>0</td>\n",
       "      <td>0</td>\n",
       "      <td>0</td>\n",
       "      <td>0</td>\n",
       "      <td>0</td>\n",
       "      <td>0</td>\n",
       "      <td>0</td>\n",
       "    </tr>\n",
       "    <tr>\n",
       "      <th>1</th>\n",
       "      <td>1472601600000000000</td>\n",
       "      <td>0</td>\n",
       "      <td>0</td>\n",
       "      <td>0</td>\n",
       "      <td>0</td>\n",
       "      <td>0</td>\n",
       "      <td>0</td>\n",
       "      <td>0</td>\n",
       "      <td>0</td>\n",
       "      <td>0</td>\n",
       "      <td>...</td>\n",
       "      <td>0</td>\n",
       "      <td>0</td>\n",
       "      <td>0</td>\n",
       "      <td>0</td>\n",
       "      <td>0</td>\n",
       "      <td>0</td>\n",
       "      <td>0</td>\n",
       "      <td>0</td>\n",
       "      <td>0</td>\n",
       "      <td>0</td>\n",
       "    </tr>\n",
       "    <tr>\n",
       "      <th>2</th>\n",
       "      <td>1472601600000000000</td>\n",
       "      <td>0</td>\n",
       "      <td>0</td>\n",
       "      <td>0</td>\n",
       "      <td>0</td>\n",
       "      <td>0</td>\n",
       "      <td>0</td>\n",
       "      <td>0</td>\n",
       "      <td>0</td>\n",
       "      <td>0</td>\n",
       "      <td>...</td>\n",
       "      <td>0</td>\n",
       "      <td>0</td>\n",
       "      <td>0</td>\n",
       "      <td>0</td>\n",
       "      <td>0</td>\n",
       "      <td>0</td>\n",
       "      <td>0</td>\n",
       "      <td>0</td>\n",
       "      <td>0</td>\n",
       "      <td>0</td>\n",
       "    </tr>\n",
       "    <tr>\n",
       "      <th>3</th>\n",
       "      <td>1472601600000000000</td>\n",
       "      <td>0</td>\n",
       "      <td>0</td>\n",
       "      <td>0</td>\n",
       "      <td>0</td>\n",
       "      <td>0</td>\n",
       "      <td>0</td>\n",
       "      <td>0</td>\n",
       "      <td>0</td>\n",
       "      <td>0</td>\n",
       "      <td>...</td>\n",
       "      <td>0</td>\n",
       "      <td>1</td>\n",
       "      <td>0</td>\n",
       "      <td>0</td>\n",
       "      <td>0</td>\n",
       "      <td>0</td>\n",
       "      <td>0</td>\n",
       "      <td>0</td>\n",
       "      <td>0</td>\n",
       "      <td>0</td>\n",
       "    </tr>\n",
       "    <tr>\n",
       "      <th>4</th>\n",
       "      <td>1472601600000000000</td>\n",
       "      <td>0</td>\n",
       "      <td>0</td>\n",
       "      <td>0</td>\n",
       "      <td>0</td>\n",
       "      <td>0</td>\n",
       "      <td>0</td>\n",
       "      <td>0</td>\n",
       "      <td>0</td>\n",
       "      <td>0</td>\n",
       "      <td>...</td>\n",
       "      <td>0</td>\n",
       "      <td>0</td>\n",
       "      <td>0</td>\n",
       "      <td>0</td>\n",
       "      <td>0</td>\n",
       "      <td>0</td>\n",
       "      <td>0</td>\n",
       "      <td>0</td>\n",
       "      <td>0</td>\n",
       "      <td>0</td>\n",
       "    </tr>\n",
       "    <tr>\n",
       "      <th>...</th>\n",
       "      <td>...</td>\n",
       "      <td>...</td>\n",
       "      <td>...</td>\n",
       "      <td>...</td>\n",
       "      <td>...</td>\n",
       "      <td>...</td>\n",
       "      <td>...</td>\n",
       "      <td>...</td>\n",
       "      <td>...</td>\n",
       "      <td>...</td>\n",
       "      <td>...</td>\n",
       "      <td>...</td>\n",
       "      <td>...</td>\n",
       "      <td>...</td>\n",
       "      <td>...</td>\n",
       "      <td>...</td>\n",
       "      <td>...</td>\n",
       "      <td>...</td>\n",
       "      <td>...</td>\n",
       "      <td>...</td>\n",
       "      <td>...</td>\n",
       "    </tr>\n",
       "    <tr>\n",
       "      <th>46111</th>\n",
       "      <td>1388534400000000000</td>\n",
       "      <td>0</td>\n",
       "      <td>0</td>\n",
       "      <td>0</td>\n",
       "      <td>0</td>\n",
       "      <td>0</td>\n",
       "      <td>0</td>\n",
       "      <td>0</td>\n",
       "      <td>0</td>\n",
       "      <td>0</td>\n",
       "      <td>...</td>\n",
       "      <td>0</td>\n",
       "      <td>0</td>\n",
       "      <td>0</td>\n",
       "      <td>0</td>\n",
       "      <td>0</td>\n",
       "      <td>0</td>\n",
       "      <td>0</td>\n",
       "      <td>0</td>\n",
       "      <td>0</td>\n",
       "      <td>0</td>\n",
       "    </tr>\n",
       "    <tr>\n",
       "      <th>46112</th>\n",
       "      <td>1388534400000000000</td>\n",
       "      <td>0</td>\n",
       "      <td>0</td>\n",
       "      <td>0</td>\n",
       "      <td>0</td>\n",
       "      <td>0</td>\n",
       "      <td>0</td>\n",
       "      <td>0</td>\n",
       "      <td>0</td>\n",
       "      <td>0</td>\n",
       "      <td>...</td>\n",
       "      <td>0</td>\n",
       "      <td>0</td>\n",
       "      <td>0</td>\n",
       "      <td>0</td>\n",
       "      <td>0</td>\n",
       "      <td>0</td>\n",
       "      <td>0</td>\n",
       "      <td>0</td>\n",
       "      <td>0</td>\n",
       "      <td>0</td>\n",
       "    </tr>\n",
       "    <tr>\n",
       "      <th>46113</th>\n",
       "      <td>1388534400000000000</td>\n",
       "      <td>0</td>\n",
       "      <td>0</td>\n",
       "      <td>0</td>\n",
       "      <td>0</td>\n",
       "      <td>0</td>\n",
       "      <td>0</td>\n",
       "      <td>0</td>\n",
       "      <td>0</td>\n",
       "      <td>0</td>\n",
       "      <td>...</td>\n",
       "      <td>0</td>\n",
       "      <td>0</td>\n",
       "      <td>0</td>\n",
       "      <td>0</td>\n",
       "      <td>0</td>\n",
       "      <td>0</td>\n",
       "      <td>0</td>\n",
       "      <td>0</td>\n",
       "      <td>0</td>\n",
       "      <td>0</td>\n",
       "    </tr>\n",
       "    <tr>\n",
       "      <th>46114</th>\n",
       "      <td>1388534400000000000</td>\n",
       "      <td>0</td>\n",
       "      <td>0</td>\n",
       "      <td>0</td>\n",
       "      <td>0</td>\n",
       "      <td>0</td>\n",
       "      <td>0</td>\n",
       "      <td>0</td>\n",
       "      <td>0</td>\n",
       "      <td>0</td>\n",
       "      <td>...</td>\n",
       "      <td>0</td>\n",
       "      <td>0</td>\n",
       "      <td>0</td>\n",
       "      <td>0</td>\n",
       "      <td>0</td>\n",
       "      <td>0</td>\n",
       "      <td>0</td>\n",
       "      <td>0</td>\n",
       "      <td>0</td>\n",
       "      <td>0</td>\n",
       "    </tr>\n",
       "    <tr>\n",
       "      <th>46115</th>\n",
       "      <td>1388534400000000000</td>\n",
       "      <td>0</td>\n",
       "      <td>0</td>\n",
       "      <td>0</td>\n",
       "      <td>0</td>\n",
       "      <td>0</td>\n",
       "      <td>0</td>\n",
       "      <td>0</td>\n",
       "      <td>0</td>\n",
       "      <td>0</td>\n",
       "      <td>...</td>\n",
       "      <td>0</td>\n",
       "      <td>0</td>\n",
       "      <td>0</td>\n",
       "      <td>0</td>\n",
       "      <td>0</td>\n",
       "      <td>0</td>\n",
       "      <td>0</td>\n",
       "      <td>0</td>\n",
       "      <td>0</td>\n",
       "      <td>0</td>\n",
       "    </tr>\n",
       "  </tbody>\n",
       "</table>\n",
       "<p>46116 rows × 124 columns</p>\n",
       "</div>"
      ],
      "text/plain": [
       "                      Date  M10  M100  M101  M102  M103  M104  M105  M106  \\\n",
       "0      1472601600000000000    0     0     0     0     0     0     0     0   \n",
       "1      1472601600000000000    0     0     0     0     0     0     0     0   \n",
       "2      1472601600000000000    0     0     0     0     0     0     0     0   \n",
       "3      1472601600000000000    0     0     0     0     0     0     0     0   \n",
       "4      1472601600000000000    0     0     0     0     0     0     0     0   \n",
       "...                    ...  ...   ...   ...   ...   ...   ...   ...   ...   \n",
       "46111  1388534400000000000    0     0     0     0     0     0     0     0   \n",
       "46112  1388534400000000000    0     0     0     0     0     0     0     0   \n",
       "46113  1388534400000000000    0     0     0     0     0     0     0     0   \n",
       "46114  1388534400000000000    0     0     0     0     0     0     0     0   \n",
       "46115  1388534400000000000    0     0     0     0     0     0     0     0   \n",
       "\n",
       "       M107  ...  M90  M91  M92  M93  M94  M95  M96  M97  M98  M99  \n",
       "0         0  ...    0    0    0    0    0    0    0    0    0    0  \n",
       "1         0  ...    0    0    0    0    0    0    0    0    0    0  \n",
       "2         0  ...    0    0    0    0    0    0    0    0    0    0  \n",
       "3         0  ...    0    1    0    0    0    0    0    0    0    0  \n",
       "4         0  ...    0    0    0    0    0    0    0    0    0    0  \n",
       "...     ...  ...  ...  ...  ...  ...  ...  ...  ...  ...  ...  ...  \n",
       "46111     0  ...    0    0    0    0    0    0    0    0    0    0  \n",
       "46112     0  ...    0    0    0    0    0    0    0    0    0    0  \n",
       "46113     0  ...    0    0    0    0    0    0    0    0    0    0  \n",
       "46114     0  ...    0    0    0    0    0    0    0    0    0    0  \n",
       "46115     0  ...    0    0    0    0    0    0    0    0    0    0  \n",
       "\n",
       "[46116 rows x 124 columns]"
      ]
     },
     "execution_count": 91,
     "metadata": {},
     "output_type": "execute_result"
    }
   ],
   "source": [
    "x"
   ]
  },
  {
   "cell_type": "code",
   "execution_count": 92,
   "metadata": {},
   "outputs": [],
   "source": [
    "#import library\n",
    "from sklearn.model_selection import train_test_split"
   ]
  },
  {
   "cell_type": "code",
   "execution_count": 119,
   "metadata": {},
   "outputs": [],
   "source": [
    "xtrain, xtest, ytrain, ytest = train_test_split(x,y, test_size = 0.20, random_state = 0)"
   ]
  },
  {
   "cell_type": "code",
   "execution_count": 120,
   "metadata": {},
   "outputs": [],
   "source": [
    "from sklearn.linear_model import LinearRegression"
   ]
  },
  {
   "cell_type": "code",
   "execution_count": 121,
   "metadata": {},
   "outputs": [],
   "source": [
    "regressor = LinearRegression()"
   ]
  },
  {
   "cell_type": "code",
   "execution_count": 122,
   "metadata": {},
   "outputs": [
    {
     "data": {
      "text/plain": [
       "LinearRegression()"
      ]
     },
     "execution_count": 122,
     "metadata": {},
     "output_type": "execute_result"
    }
   ],
   "source": [
    "regressor.fit(xtrain, ytrain)"
   ]
  },
  {
   "cell_type": "code",
   "execution_count": 123,
   "metadata": {},
   "outputs": [
    {
     "data": {
      "text/plain": [
       "1578      14\n",
       "11589      2\n",
       "28280      6\n",
       "19083     14\n",
       "34269    172\n",
       "        ... \n",
       "36388      2\n",
       "37347    177\n",
       "9621     340\n",
       "14950     31\n",
       "16660      2\n",
       "Name: Count, Length: 9224, dtype: int64"
      ]
     },
     "execution_count": 123,
     "metadata": {},
     "output_type": "execute_result"
    }
   ],
   "source": [
    "ytest"
   ]
  },
  {
   "cell_type": "code",
   "execution_count": 124,
   "metadata": {},
   "outputs": [],
   "source": [
    "pred = regressor.predict(xtest)"
   ]
  },
  {
   "cell_type": "code",
   "execution_count": 125,
   "metadata": {},
   "outputs": [
    {
     "data": {
      "text/plain": [
       "array([125.86896512, 115.21809195,  94.44015905, ..., 117.48795017,\n",
       "       111.28949119, 109.36884193])"
      ]
     },
     "execution_count": 125,
     "metadata": {},
     "output_type": "execute_result"
    }
   ],
   "source": [
    "pred"
   ]
  },
  {
   "cell_type": "code",
   "execution_count": 126,
   "metadata": {},
   "outputs": [
    {
     "data": {
      "text/plain": [
       "0.003478570178831464"
      ]
     },
     "execution_count": 126,
     "metadata": {},
     "output_type": "execute_result"
    }
   ],
   "source": [
    "regressor.score(xtest, ytest)"
   ]
  },
  {
   "cell_type": "code",
   "execution_count": 140,
   "metadata": {},
   "outputs": [],
   "source": [
    "from sklearn.metrics import confusion_matrix\n"
   ]
  },
  {
   "cell_type": "code",
   "execution_count": 143,
   "metadata": {},
   "outputs": [
    {
     "ename": "ValueError",
     "evalue": "Classification metrics can't handle a mix of multiclass and continuous targets",
     "output_type": "error",
     "traceback": [
      "\u001b[1;31m---------------------------------------------------------------------------\u001b[0m",
      "\u001b[1;31mValueError\u001b[0m                                Traceback (most recent call last)",
      "\u001b[1;32m<ipython-input-143-815224b5d9d8>\u001b[0m in \u001b[0;36m<module>\u001b[1;34m\u001b[0m\n\u001b[1;32m----> 1\u001b[1;33m \u001b[0mconfusion_matrix\u001b[0m\u001b[1;33m(\u001b[0m\u001b[0mytest\u001b[0m\u001b[1;33m,\u001b[0m \u001b[0mpred\u001b[0m\u001b[1;33m)\u001b[0m\u001b[1;33m\u001b[0m\u001b[1;33m\u001b[0m\u001b[0m\n\u001b[0m",
      "\u001b[1;32mG:\\CSE Apps\\Anaconda\\lib\\site-packages\\sklearn\\utils\\validation.py\u001b[0m in \u001b[0;36minner_f\u001b[1;34m(*args, **kwargs)\u001b[0m\n\u001b[0;32m     70\u001b[0m                           FutureWarning)\n\u001b[0;32m     71\u001b[0m         \u001b[0mkwargs\u001b[0m\u001b[1;33m.\u001b[0m\u001b[0mupdate\u001b[0m\u001b[1;33m(\u001b[0m\u001b[1;33m{\u001b[0m\u001b[0mk\u001b[0m\u001b[1;33m:\u001b[0m \u001b[0marg\u001b[0m \u001b[1;32mfor\u001b[0m \u001b[0mk\u001b[0m\u001b[1;33m,\u001b[0m \u001b[0marg\u001b[0m \u001b[1;32min\u001b[0m \u001b[0mzip\u001b[0m\u001b[1;33m(\u001b[0m\u001b[0msig\u001b[0m\u001b[1;33m.\u001b[0m\u001b[0mparameters\u001b[0m\u001b[1;33m,\u001b[0m \u001b[0margs\u001b[0m\u001b[1;33m)\u001b[0m\u001b[1;33m}\u001b[0m\u001b[1;33m)\u001b[0m\u001b[1;33m\u001b[0m\u001b[1;33m\u001b[0m\u001b[0m\n\u001b[1;32m---> 72\u001b[1;33m         \u001b[1;32mreturn\u001b[0m \u001b[0mf\u001b[0m\u001b[1;33m(\u001b[0m\u001b[1;33m**\u001b[0m\u001b[0mkwargs\u001b[0m\u001b[1;33m)\u001b[0m\u001b[1;33m\u001b[0m\u001b[1;33m\u001b[0m\u001b[0m\n\u001b[0m\u001b[0;32m     73\u001b[0m     \u001b[1;32mreturn\u001b[0m \u001b[0minner_f\u001b[0m\u001b[1;33m\u001b[0m\u001b[1;33m\u001b[0m\u001b[0m\n\u001b[0;32m     74\u001b[0m \u001b[1;33m\u001b[0m\u001b[0m\n",
      "\u001b[1;32mG:\\CSE Apps\\Anaconda\\lib\\site-packages\\sklearn\\metrics\\_classification.py\u001b[0m in \u001b[0;36mconfusion_matrix\u001b[1;34m(y_true, y_pred, labels, sample_weight, normalize)\u001b[0m\n\u001b[0;32m    274\u001b[0m \u001b[1;33m\u001b[0m\u001b[0m\n\u001b[0;32m    275\u001b[0m     \"\"\"\n\u001b[1;32m--> 276\u001b[1;33m     \u001b[0my_type\u001b[0m\u001b[1;33m,\u001b[0m \u001b[0my_true\u001b[0m\u001b[1;33m,\u001b[0m \u001b[0my_pred\u001b[0m \u001b[1;33m=\u001b[0m \u001b[0m_check_targets\u001b[0m\u001b[1;33m(\u001b[0m\u001b[0my_true\u001b[0m\u001b[1;33m,\u001b[0m \u001b[0my_pred\u001b[0m\u001b[1;33m)\u001b[0m\u001b[1;33m\u001b[0m\u001b[1;33m\u001b[0m\u001b[0m\n\u001b[0m\u001b[0;32m    277\u001b[0m     \u001b[1;32mif\u001b[0m \u001b[0my_type\u001b[0m \u001b[1;32mnot\u001b[0m \u001b[1;32min\u001b[0m \u001b[1;33m(\u001b[0m\u001b[1;34m\"binary\"\u001b[0m\u001b[1;33m,\u001b[0m \u001b[1;34m\"multiclass\"\u001b[0m\u001b[1;33m)\u001b[0m\u001b[1;33m:\u001b[0m\u001b[1;33m\u001b[0m\u001b[1;33m\u001b[0m\u001b[0m\n\u001b[0;32m    278\u001b[0m         \u001b[1;32mraise\u001b[0m \u001b[0mValueError\u001b[0m\u001b[1;33m(\u001b[0m\u001b[1;34m\"%s is not supported\"\u001b[0m \u001b[1;33m%\u001b[0m \u001b[0my_type\u001b[0m\u001b[1;33m)\u001b[0m\u001b[1;33m\u001b[0m\u001b[1;33m\u001b[0m\u001b[0m\n",
      "\u001b[1;32mG:\\CSE Apps\\Anaconda\\lib\\site-packages\\sklearn\\metrics\\_classification.py\u001b[0m in \u001b[0;36m_check_targets\u001b[1;34m(y_true, y_pred)\u001b[0m\n\u001b[0;32m     88\u001b[0m \u001b[1;33m\u001b[0m\u001b[0m\n\u001b[0;32m     89\u001b[0m     \u001b[1;32mif\u001b[0m \u001b[0mlen\u001b[0m\u001b[1;33m(\u001b[0m\u001b[0my_type\u001b[0m\u001b[1;33m)\u001b[0m \u001b[1;33m>\u001b[0m \u001b[1;36m1\u001b[0m\u001b[1;33m:\u001b[0m\u001b[1;33m\u001b[0m\u001b[1;33m\u001b[0m\u001b[0m\n\u001b[1;32m---> 90\u001b[1;33m         raise ValueError(\"Classification metrics can't handle a mix of {0} \"\n\u001b[0m\u001b[0;32m     91\u001b[0m                          \"and {1} targets\".format(type_true, type_pred))\n\u001b[0;32m     92\u001b[0m \u001b[1;33m\u001b[0m\u001b[0m\n",
      "\u001b[1;31mValueError\u001b[0m: Classification metrics can't handle a mix of multiclass and continuous targets"
     ]
    }
   ],
   "source": [
    "confusion_matrix(ytest, pred)\n",
    "#there is a error because ytest and pred data are not same type (integer and float)"
   ]
  },
  {
   "cell_type": "code",
   "execution_count": null,
   "metadata": {},
   "outputs": [],
   "source": []
  }
 ],
 "metadata": {
  "kernelspec": {
   "display_name": "Python 3",
   "language": "python",
   "name": "python3"
  },
  "language_info": {
   "codemirror_mode": {
    "name": "ipython",
    "version": 3
   },
   "file_extension": ".py",
   "mimetype": "text/x-python",
   "name": "python",
   "nbconvert_exporter": "python",
   "pygments_lexer": "ipython3",
   "version": "3.8.5"
  }
 },
 "nbformat": 4,
 "nbformat_minor": 4
}
