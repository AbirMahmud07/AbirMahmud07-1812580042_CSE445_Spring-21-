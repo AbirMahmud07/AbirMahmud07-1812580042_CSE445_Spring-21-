{
 "cells": [
  {
   "cell_type": "code",
   "execution_count": 30,
   "metadata": {},
   "outputs": [
    {
     "name": "stdout",
     "output_type": "stream",
     "text": [
      "Enter the value of A prime : 0.3\n",
      "value of P(S) 0.0189\n",
      "Probability of A fail and B,C,D work properly P(A`BCD) 0.024871693643900513\n"
     ]
    }
   ],
   "source": [
    "# Store input numbers\n",
    "A = input('Enter the value of A prime : ')\n",
    "B = float(A) \n",
    "C = float(A) #Because A = B = C = D\n",
    "D = float(A) \n",
    "\n",
    "A_not = 1-float(A)\n",
    "B_not = float(A_not) \n",
    "C_not = float(A_not) \n",
    "D_not = float(A_not) \n",
    "\n",
    "S1 = float(A_not) * float(B_not) * float(C_not) * float(D_not)\n",
    "\n",
    "#Solution of 2(b)\n",
    "\n",
    "S_not =1-float(S)\n",
    "\n",
    "S1 = float(A_not) * float(B) * float(C) * float(\n",
    "\n",
    "S2 = float(S1) / float(S_not)\n",
    " \n",
    "# Display the answe\n",
    "print(\"value of P(S)\", S1)\n",
    "print(\"Probability of A fail and B,C,D work properly P(A`BCD)\", S2)"
   ]
  }
 ],
 "metadata": {
  "kernelspec": {
   "display_name": "Python 3",
   "language": "python",
   "name": "python3"
  },
  "language_info": {
   "codemirror_mode": {
    "name": "ipython",
    "version": 3
   },
   "file_extension": ".py",
   "mimetype": "text/x-python",
   "name": "python",
   "nbconvert_exporter": "python",
   "pygments_lexer": "ipython3",
   "version": "3.8.5"
  }
 },
 "nbformat": 4,
 "nbformat_minor": 4
}
